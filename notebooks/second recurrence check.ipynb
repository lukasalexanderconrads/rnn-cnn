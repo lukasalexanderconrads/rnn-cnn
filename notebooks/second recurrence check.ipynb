{
 "cells": [
  {
   "cell_type": "code",
   "execution_count": 1,
   "metadata": {
    "pycharm": {
     "name": "#%%\n"
    }
   },
   "outputs": [],
   "source": [
    "\n",
    "from lab.postprocessing.toolbox import load_model"
   ]
  },
  {
   "cell_type": "code",
   "execution_count": 3,
   "metadata": {
    "pycharm": {
     "name": "#%%\n"
    }
   },
   "outputs": [
    {
     "name": "stdout",
     "output_type": "stream",
     "text": [
      "Downloading https://www.cs.toronto.edu/~kriz/cifar-10-python.tar.gz to data/cifar-10-python.tar.gz\n"
     ]
    },
    {
     "data": {
      "application/vnd.jupyter.widget-view+json": {
       "model_id": "54a073daf0b24ffb840e11da34b18408",
       "version_major": 2,
       "version_minor": 0
      },
      "text/plain": [
       "HBox(children=(IntProgress(value=1, bar_style='info', max=1), HTML(value='')))"
      ]
     },
     "metadata": {},
     "output_type": "display_data"
    },
    {
     "name": "stdout",
     "output_type": "stream",
     "text": [
      "Extracting data/cifar-10-python.tar.gz to data/\n"
     ]
    }
   ],
   "source": [
    "model ,loader = load_model(\"/home/iailab36/aliakbar/rnn-cnn/scripts/results/cifar/resnet/resnet_RNN_dim_10_rec_2/\",\"0718-121833\")\n",
    "model_mlp ,loader_1 = load_model(\"/home/iailab36/aliakbar/rnn-cnn/scripts/results/cifar/resnet/resnet_RNN_dim_10_rec_2/\",\"0718-121833\")"
   ]
  },
  {
   "cell_type": "code",
   "execution_count": 118,
   "metadata": {
    "pycharm": {
     "name": "#%%\n"
    }
   },
   "outputs": [
    {
     "data": {
      "text/plain": [
       "tensor([[-10.2450, -13.1973, -12.7948,  ..., -11.9977, -31.3913,  -9.4050],\n",
       "        [ -1.7002, -18.1747,  -2.7445,  ..., -16.1180, -10.1669, -13.1498],\n",
       "        [ -1.5749, -10.0555,   1.2282,  ..., -10.2823,  -5.9543, -13.4654],\n",
       "        ...,\n",
       "        [-11.1198, -53.0684,  -5.4558,  ..., -14.3922, -48.5821, -46.0804],\n",
       "        [ -0.3423,  10.6317,  -5.9400,  ..., -13.8340,  -0.4080,   1.4377],\n",
       "        [  1.9737,   5.6264,  -9.0477,  ...,  -3.3168,  -1.1589,   8.6727]],\n",
       "       device='cuda:0')"
      ]
     },
     "execution_count": 118,
     "metadata": {},
     "output_type": "execute_result"
    }
   ],
   "source": [
    "for batch in loader.valid:\n",
    "    input= batch[0].to(\"cuda:0\")\n",
    "    logits_stacked, final_steps = model(input)\n",
    "    \n",
    "    break\n",
    "logits_stacked[0]"
   ]
  },
  {
   "cell_type": "code",
   "execution_count": 115,
   "metadata": {
    "pycharm": {
     "name": "#%%\n"
    }
   },
   "outputs": [
    {
     "ename": "AttributeError",
     "evalue": "'numpy.ndarray' object has no attribute 'cpu'",
     "output_type": "error",
     "traceback": [
      "\u001B[0;31m---------------------------------------------------------------------------\u001B[0m",
      "\u001B[0;31mAttributeError\u001B[0m                            Traceback (most recent call last)",
      "\u001B[0;32m<ipython-input-115-9be31dc1655b>\u001B[0m in \u001B[0;36m<module>\u001B[0;34m\u001B[0m\n\u001B[0;32m----> 1\u001B[0;31m \u001B[0mfinal_steps\u001B[0m\u001B[0;34m=\u001B[0m\u001B[0mfinal_steps\u001B[0m\u001B[0;34m.\u001B[0m\u001B[0mcpu\u001B[0m\u001B[0;34m(\u001B[0m\u001B[0;34m)\u001B[0m\u001B[0;34m.\u001B[0m\u001B[0mnumpy\u001B[0m\u001B[0;34m(\u001B[0m\u001B[0;34m)\u001B[0m\u001B[0;34m\u001B[0m\u001B[0;34m\u001B[0m\u001B[0m\n\u001B[0m\u001B[1;32m      2\u001B[0m \u001B[0mfinal_steps\u001B[0m\u001B[0;34m\u001B[0m\u001B[0;34m\u001B[0m\u001B[0m\n",
      "\u001B[0;31mAttributeError\u001B[0m: 'numpy.ndarray' object has no attribute 'cpu'"
     ]
    }
   ],
   "source": [
    "final_steps=final_steps.cpu().numpy()\n"
   ]
  },
  {
   "cell_type": "code",
   "execution_count": 83,
   "metadata": {
    "pycharm": {
     "name": "#%%\n"
    }
   },
   "outputs": [
    {
     "name": "stdout",
     "output_type": "stream",
     "text": [
      "Accuracy score: 0.757812\n"
     ]
    },
    {
     "data": {
      "text/plain": [
       "tensor([6, 0, 2, 7, 0, 6, 5, 4, 5, 2, 8, 6, 8, 7, 9, 8, 4, 5, 9, 5, 8, 6, 9, 9,\n",
       "        5, 2, 6, 4, 7, 6, 7, 0, 4, 2, 6, 1, 0, 4, 9, 7, 1, 7, 0, 6, 0, 6, 7, 1,\n",
       "        8, 9, 7, 2, 3, 6, 9, 0, 2, 4, 4, 6, 1, 1, 0, 6, 7, 5, 5, 7, 2, 6, 0, 7,\n",
       "        6, 2, 9, 2, 2, 8, 2, 9, 7, 7, 2, 2, 6, 8, 9, 7, 6, 0, 1, 1, 5, 0, 8, 0,\n",
       "        9, 5, 9, 5, 0, 4, 2, 0, 9, 2, 6, 2, 4, 1, 8, 4, 7, 0, 4, 7, 6, 8, 8, 5,\n",
       "        8, 4, 7, 2, 0, 4, 1, 9])"
      ]
     },
     "execution_count": 83,
     "metadata": {},
     "output_type": "execute_result"
    }
   ],
   "source": [
    "logits_stacked[0][0]\n",
    "import torch\n",
    "\n",
    "from sklearn.metrics import accuracy_score\n",
    "prediction = torch.argmax(logits_stacked[0],dim=1, keepdim=True)\n",
    "actuals= (batch[1].view_as(prediction))\n",
    "print('Accuracy score: %f' % accuracy_score(actuals.cpu().numpy(), prediction.cpu().numpy()))\n",
    "pred_labels = prediction.cpu().reshape( [128])\n",
    "pred_labels"
   ]
  },
  {
   "cell_type": "code",
   "execution_count": 119,
   "metadata": {
    "scrolled": true,
    "pycharm": {
     "name": "#%%\n"
    }
   },
   "outputs": [
    {
     "data": {
      "text/plain": [
       "tensor([6, 0, 2, 3, 3, 6, 3, 3, 5, 6, 0, 6, 8, 3, 9, 0, 4, 5, 9, 3, 8, 6, 7, 9,\n",
       "        5, 2, 6, 4, 4, 6, 7, 0, 4, 2, 6, 1, 6, 4, 9, 3, 1, 7, 0, 6, 2, 6, 7, 1,\n",
       "        8, 9, 5, 2, 3, 6, 9, 4, 2, 4, 2, 6, 1, 1, 0, 6, 7, 5, 5, 7, 2, 6, 3, 7,\n",
       "        6, 2, 9, 4, 2, 8, 2, 9, 7, 7, 2, 2, 6, 8, 9, 3, 6, 0, 1, 2, 5, 0, 8, 0,\n",
       "        9, 5, 9, 5, 8, 4, 2, 0, 9, 2, 6, 0, 4, 9, 8, 2, 3, 0, 2, 3, 6, 8, 8, 5,\n",
       "        8, 2, 7, 4, 6, 4, 1, 9])"
      ]
     },
     "execution_count": 119,
     "metadata": {},
     "output_type": "execute_result"
    }
   ],
   "source": [
    "labels"
   ]
  },
  {
   "cell_type": "code",
   "execution_count": 92,
   "metadata": {
    "pycharm": {
     "name": "#%%\n"
    }
   },
   "outputs": [
    {
     "data": {
      "text/plain": [
       "array(['Black', 'Black', 'Black', 'Red', 'Red', 'Black', 'Red', 'Red',\n",
       "       'Black', 'Red', 'Red', 'Black', 'Black', 'Red', 'Black', 'Red',\n",
       "       'Black', 'Black', 'Black', 'Red', 'Black', 'Black', 'Red', 'Black',\n",
       "       'Black', 'Black', 'Black', 'Black', 'Red', 'Black', 'Black',\n",
       "       'Black', 'Black', 'Black', 'Black', 'Black', 'Red', 'Black',\n",
       "       'Black', 'Red', 'Black', 'Black', 'Black', 'Black', 'Red', 'Black',\n",
       "       'Black', 'Black', 'Black', 'Black', 'Red', 'Black', 'Black',\n",
       "       'Black', 'Black', 'Red', 'Black', 'Black', 'Red', 'Black', 'Black',\n",
       "       'Black', 'Black', 'Black', 'Black', 'Black', 'Black', 'Black',\n",
       "       'Black', 'Black', 'Red', 'Black', 'Black', 'Black', 'Black', 'Red',\n",
       "       'Black', 'Black', 'Black', 'Black', 'Black', 'Black', 'Black',\n",
       "       'Black', 'Black', 'Black', 'Black', 'Red', 'Black', 'Black',\n",
       "       'Black', 'Red', 'Black', 'Black', 'Black', 'Black', 'Black',\n",
       "       'Black', 'Black', 'Black', 'Red', 'Black', 'Black', 'Black',\n",
       "       'Black', 'Black', 'Black', 'Red', 'Black', 'Red', 'Black', 'Red',\n",
       "       'Red', 'Black', 'Red', 'Red', 'Black', 'Black', 'Black', 'Black',\n",
       "       'Black', 'Red', 'Black', 'Red', 'Red', 'Black', 'Black', 'Black'],\n",
       "      dtype='<U5')"
      ]
     },
     "execution_count": 92,
     "metadata": {},
     "output_type": "execute_result"
    }
   ],
   "source": [
    "eq=torch.eq(pred_labels,labels)\n",
    "cl = np.where(eq.numpy()==False,\"Red\",\"Black\")\n",
    "cl"
   ]
  },
  {
   "cell_type": "code",
   "execution_count": 36,
   "metadata": {
    "pycharm": {
     "name": "#%%\n"
    }
   },
   "outputs": [],
   "source": [
    "label_names= ['airplane', 'automobile', 'bird', 'cat', 'deer', 'dog', 'frog', 'horse', 'ship', 'truck']"
   ]
  },
  {
   "cell_type": "code",
   "execution_count": 1,
   "metadata": {
    "pycharm": {
     "name": "#%%\n"
    }
   },
   "outputs": [
    {
     "ename": "NameError",
     "evalue": "name 'batch' is not defined",
     "output_type": "error",
     "traceback": [
      "\u001B[0;31m---------------------------------------------------------------------------\u001B[0m",
      "\u001B[0;31mNameError\u001B[0m                                 Traceback (most recent call last)",
      "Input \u001B[0;32mIn [1]\u001B[0m, in \u001B[0;36m<cell line: 4>\u001B[0;34m()\u001B[0m\n\u001B[1;32m      2\u001B[0m \u001B[38;5;28;01mimport\u001B[39;00m \u001B[38;5;21;01mnumpy\u001B[39;00m \u001B[38;5;28;01mas\u001B[39;00m \u001B[38;5;21;01mnp\u001B[39;00m\n\u001B[1;32m      3\u001B[0m \u001B[38;5;66;03m# take the images data from batch data\u001B[39;00m\n\u001B[0;32m----> 4\u001B[0m images \u001B[38;5;241m=\u001B[39m \u001B[43mbatch\u001B[49m[\u001B[38;5;241m0\u001B[39m]\u001B[38;5;241m.\u001B[39mnumpy()\n\u001B[1;32m      6\u001B[0m \u001B[38;5;66;03m# reshape and transpose the images\u001B[39;00m\n\u001B[1;32m      7\u001B[0m images \u001B[38;5;241m=\u001B[39m images\u001B[38;5;241m.\u001B[39mreshape(\u001B[38;5;28mlen\u001B[39m(images),\u001B[38;5;241m3\u001B[39m,\u001B[38;5;241m32\u001B[39m,\u001B[38;5;241m32\u001B[39m)\u001B[38;5;241m.\u001B[39mtranspose(\u001B[38;5;241m0\u001B[39m,\u001B[38;5;241m2\u001B[39m,\u001B[38;5;241m3\u001B[39m,\u001B[38;5;241m1\u001B[39m)\n",
      "\u001B[0;31mNameError\u001B[0m: name 'batch' is not defined"
     ]
    }
   ],
   "source": [
    "import matplotlib.pyplot as plt\n",
    "import numpy as np\n",
    "# take the images data from batch data\n",
    "images = batch[0].numpy()\n",
    "\n",
    "# reshape and transpose the images\n",
    "images = images.reshape(len(images),3,32,32).transpose(0,2,3,1)\n",
    "# take labels of the images \n",
    "labels = batch[1]\n",
    "# label names of the images\n",
    "# label_names = meta_data['label_names']\n",
    "\n",
    "rows, columns = 11, 11\n",
    "# take random image idex id\n",
    "# imageId = np.random.randint(0, len(images), rows * columns)\n",
    "# take images for above random image ids\n",
    "# images = images[imageId]\n",
    "# take labels for these images only\n",
    "# labels = [labels[i] for i in images]\n",
    "\n",
    "# define figure\n",
    "fig=plt.figure(figsize=(20, 20))\n",
    "# visualize these random images\n",
    "for i in range(1, columns*rows +1):\n",
    "    fig.add_subplot(rows, columns, i)\n",
    "    plt.imshow(images[i-1])\n",
    "    plt.xticks([])\n",
    "    plt.yticks([])\n",
    "    plt.title(\"{}\"\n",
    "          .format(label_names[pred_labels[i-1]]+str(final_steps[i-1]+1)),color=cl[i-1])\n",
    "fig.tight_layout()\n",
    "plt.show()"
   ]
  }
 ],
 "metadata": {
  "kernelspec": {
   "display_name": "Python 3 (ipykernel)",
   "language": "python",
   "name": "python3"
  },
  "language_info": {
   "codemirror_mode": {
    "name": "ipython",
    "version": 3
   },
   "file_extension": ".py",
   "mimetype": "text/x-python",
   "name": "python",
   "nbconvert_exporter": "python",
   "pygments_lexer": "ipython3",
   "version": "3.10.4"
  }
 },
 "nbformat": 4,
 "nbformat_minor": 2
}