{
 "cells": [
  {
   "cell_type": "code",
   "execution_count": 1,
   "metadata": {
    "pycharm": {
     "name": "#%%\n"
    }
   },
   "outputs": [],
   "source": [
    "%load_ext autoreload\n",
    "%autoreload 2\n",
    "from lab.postprocessing.toolbox import load_model, load_and_evaluate_dir, evaluate\n",
    "from lab.postprocessing.visualization import *\n",
    "from lab.data.datasets import SyntheticDatasetHard\n",
    "from matplotlib import pyplot as plt\n",
    "from matplotlib import cm\n",
    "from matplotlib.colors import ListedColormap\n",
    "import torch\n",
    "import os\n",
    "import numpy as np"
   ]
  },
  {
   "cell_type": "code",
   "execution_count": 4,
   "metadata": {},
   "outputs": [],
   "source": [
    "result_dir = '/home/iai/user/conrads/rnn-cnn/results'"
   ]
  },
  {
   "cell_type": "code",
   "execution_count": 8,
   "metadata": {
    "scrolled": true
   },
   "outputs": [
    {
     "name": "stdout",
     "output_type": "stream",
     "text": [
      "tokenizing data...\n"
     ]
    },
    {
     "name": "stderr",
     "output_type": "stream",
     "text": [
      "650000it [00:52, 12425.35it/s]\n"
     ]
    },
    {
     "name": "stdout",
     "output_type": "stream",
     "text": [
      "tokenizing data...\n"
     ]
    },
    {
     "name": "stderr",
     "output_type": "stream",
     "text": [
      "50000it [00:04, 11796.69it/s]\n"
     ]
    },
    {
     "name": "stdout",
     "output_type": "stream",
     "text": [
      "model layers:\n",
      "Sequential(\n",
      "  (0): Linear(in_features=5, out_features=5, bias=True)\n",
      "  (1): LeakyReLU(negative_slope=0.01)\n",
      "  (2): Dropout(p=0.2, inplace=False)\n",
      "  (3): Linear(in_features=5, out_features=6, bias=True)\n",
      ")\n"
     ]
    }
   ],
   "source": [
    "model, loader = load_model(result_dir, 'yelp/mlp/_model_layer_dims_(5,)/0710-115015')\n",
    "model.print_layers()"
   ]
  },
  {
   "cell_type": "code",
   "execution_count": 10,
   "metadata": {},
   "outputs": [
    {
     "name": "stdout",
     "output_type": "stream",
     "text": [
      "tokenizing data...\n"
     ]
    },
    {
     "name": "stderr",
     "output_type": "stream",
     "text": [
      "650000it [00:52, 12464.00it/s]\n"
     ]
    },
    {
     "name": "stdout",
     "output_type": "stream",
     "text": [
      "tokenizing data...\n"
     ]
    },
    {
     "name": "stderr",
     "output_type": "stream",
     "text": [
      "50000it [00:04, 11974.12it/s]\n"
     ]
    },
    {
     "name": "stdout",
     "output_type": "stream",
     "text": [
      "model layers:\n",
      "Sequential(\n",
      "  (0): Linear(in_features=5, out_features=5, bias=True)\n",
      "  (1): LeakyReLU(negative_slope=0.01)\n",
      "  (2): Dropout(p=0.2, inplace=False)\n",
      ")\n",
      "Sequential(\n",
      "  (0): Linear(in_features=5, out_features=6, bias=True)\n",
      ")\n"
     ]
    }
   ],
   "source": [
    "model, loader = load_model(result_dir, 'yelp/rnn/_model_head_dims_()_model_threshold_0.8/0710-115121')\n",
    "model.print_layers()"
   ]
  },
  {
   "cell_type": "code",
   "execution_count": 5,
   "metadata": {},
   "outputs": [
    {
     "name": "stdout",
     "output_type": "stream",
     "text": [
      "tokenizing data...\n"
     ]
    },
    {
     "name": "stderr",
     "output_type": "stream",
     "text": [
      "650000it [00:52, 12425.14it/s]\n",
      "/home/iai/user/conrads/rnn-cnn/src/lab/data/textclassification_datasets.py:79: UserWarning: To copy construct from a tensor, it is recommended to use sourceTensor.clone().detach() or sourceTensor.clone().detach().requires_grad_(True), rather than torch.tensor(sourceTensor).\n",
      "  input = torch.tensor(input, dtype=torch.int64)\n"
     ]
    },
    {
     "name": "stdout",
     "output_type": "stream",
     "text": [
      "tokenizing data...\n"
     ]
    },
    {
     "name": "stderr",
     "output_type": "stream",
     "text": [
      "50000it [00:06, 7505.60it/s] \n"
     ]
    },
    {
     "ename": "TypeError",
     "evalue": "__init__() missing 1 required positional argument: 'vocab_size'",
     "output_type": "error",
     "traceback": [
      "\u001b[0;31m---------------------------------------------------------------------------\u001b[0m",
      "\u001b[0;31mTypeError\u001b[0m                                 Traceback (most recent call last)",
      "Input \u001b[0;32mIn [5]\u001b[0m, in \u001b[0;36m<cell line: 2>\u001b[0;34m()\u001b[0m\n\u001b[1;32m      1\u001b[0m model_dir \u001b[38;5;241m=\u001b[39m \u001b[38;5;124m'\u001b[39m\u001b[38;5;124myelp/mlp/_model_layer_dims_(5,)\u001b[39m\u001b[38;5;124m'\u001b[39m\n\u001b[0;32m----> 2\u001b[0m acc_mlp3 \u001b[38;5;241m=\u001b[39m \u001b[43mload_and_evaluate_dir\u001b[49m\u001b[43m(\u001b[49m\u001b[43mresult_dir\u001b[49m\u001b[43m,\u001b[49m\u001b[43m \u001b[49m\u001b[43mmodel_dir\u001b[49m\u001b[43m)\u001b[49m\n",
      "File \u001b[0;32m~/rnn-cnn/src/lab/postprocessing/toolbox.py:83\u001b[0m, in \u001b[0;36mload_and_evaluate_dir\u001b[0;34m(result_dir, model_dir)\u001b[0m\n\u001b[1;32m     81\u001b[0m \u001b[38;5;28;01mfor\u001b[39;00m timestamp \u001b[38;5;129;01min\u001b[39;00m timestamps:\n\u001b[1;32m     82\u001b[0m     model_name \u001b[38;5;241m=\u001b[39m os\u001b[38;5;241m.\u001b[39mpath\u001b[38;5;241m.\u001b[39mjoin(model_dir, timestamp)\n\u001b[0;32m---> 83\u001b[0m     model, loader \u001b[38;5;241m=\u001b[39m \u001b[43mload_model\u001b[49m\u001b[43m(\u001b[49m\u001b[43mresult_dir\u001b[49m\u001b[43m,\u001b[49m\u001b[43m \u001b[49m\u001b[43mmodel_name\u001b[49m\u001b[43m)\u001b[49m\n\u001b[1;32m     84\u001b[0m     acc, ce, steps \u001b[38;5;241m=\u001b[39m evaluate(model, loader\u001b[38;5;241m.\u001b[39mvalid)\n\u001b[1;32m     85\u001b[0m     acc_list\u001b[38;5;241m.\u001b[39mappend(acc)\n",
      "File \u001b[0;32m~/rnn-cnn/src/lab/postprocessing/toolbox.py:22\u001b[0m, in \u001b[0;36mload_model\u001b[0;34m(result_dir, model_name, model_version, device, loader)\u001b[0m\n\u001b[1;32m     19\u001b[0m \u001b[38;5;28;01mif\u001b[39;00m loader \u001b[38;5;129;01mis\u001b[39;00m \u001b[38;5;28;01mNone\u001b[39;00m:\n\u001b[1;32m     20\u001b[0m     loader \u001b[38;5;241m=\u001b[39m get_data_loader(config)\n\u001b[0;32m---> 22\u001b[0m model \u001b[38;5;241m=\u001b[39m \u001b[43mget_model\u001b[49m\u001b[43m(\u001b[49m\u001b[43mconfig\u001b[49m\u001b[43m,\u001b[49m\u001b[43m \u001b[49m\u001b[43min_dim\u001b[49m\u001b[38;5;241;43m=\u001b[39;49m\u001b[43mloader\u001b[49m\u001b[38;5;241;43m.\u001b[39;49m\u001b[43mdata_dim\u001b[49m\u001b[43m,\u001b[49m\u001b[43m \u001b[49m\u001b[43mout_dim\u001b[49m\u001b[38;5;241;43m=\u001b[39;49m\u001b[43mloader\u001b[49m\u001b[38;5;241;43m.\u001b[39;49m\u001b[43mn_classes\u001b[49m\u001b[43m)\u001b[49m\n\u001b[1;32m     24\u001b[0m model\u001b[38;5;241m.\u001b[39mload_state_dict(state_dict)\n\u001b[1;32m     25\u001b[0m torch\u001b[38;5;241m.\u001b[39mset_grad_enabled(\u001b[38;5;28;01mFalse\u001b[39;00m)\n",
      "File \u001b[0;32m~/rnn-cnn/src/lab/utils.py:83\u001b[0m, in \u001b[0;36mget_model\u001b[0;34m(config, in_dim, out_dim, vocab_size)\u001b[0m\n\u001b[1;32m     81\u001b[0m args\u001b[38;5;241m.\u001b[39mupdate({\u001b[38;5;124m'\u001b[39m\u001b[38;5;124mdevice\u001b[39m\u001b[38;5;124m'\u001b[39m: config[\u001b[38;5;124m'\u001b[39m\u001b[38;5;124mdevice\u001b[39m\u001b[38;5;124m'\u001b[39m]})\n\u001b[1;32m     82\u001b[0m \u001b[38;5;28;01mif\u001b[39;00m vocab_size \u001b[38;5;129;01mis\u001b[39;00m \u001b[38;5;28;01mNone\u001b[39;00m:\n\u001b[0;32m---> 83\u001b[0m     model \u001b[38;5;241m=\u001b[39m \u001b[43mcreate_instance\u001b[49m\u001b[43m(\u001b[49m\u001b[43mmodule_name\u001b[49m\u001b[43m,\u001b[49m\u001b[43m \u001b[49m\u001b[43mclass_name\u001b[49m\u001b[43m,\u001b[49m\u001b[43m \u001b[49m\u001b[43margs\u001b[49m\u001b[43m,\u001b[49m\u001b[43m \u001b[49m\u001b[43min_dim\u001b[49m\u001b[43m,\u001b[49m\u001b[43m \u001b[49m\u001b[43mout_dim\u001b[49m\u001b[43m)\u001b[49m\n\u001b[1;32m     84\u001b[0m \u001b[38;5;28;01melse\u001b[39;00m:\n\u001b[1;32m     85\u001b[0m     model \u001b[38;5;241m=\u001b[39m create_instance(module_name, class_name, args, in_dim, out_dim, vocab_size)\n",
      "File \u001b[0;32m~/rnn-cnn/src/lab/utils.py:35\u001b[0m, in \u001b[0;36mcreate_instance\u001b[0;34m(module_name, class_name, kwargs, *args)\u001b[0m\n\u001b[1;32m     33\u001b[0m     instance \u001b[38;5;241m=\u001b[39m clazz(\u001b[38;5;241m*\u001b[39margs)\n\u001b[1;32m     34\u001b[0m \u001b[38;5;28;01melse\u001b[39;00m:\n\u001b[0;32m---> 35\u001b[0m     instance \u001b[38;5;241m=\u001b[39m \u001b[43mclazz\u001b[49m\u001b[43m(\u001b[49m\u001b[38;5;241;43m*\u001b[39;49m\u001b[43margs\u001b[49m\u001b[43m,\u001b[49m\u001b[43m \u001b[49m\u001b[38;5;241;43m*\u001b[39;49m\u001b[38;5;241;43m*\u001b[39;49m\u001b[43mkwargs\u001b[49m\u001b[43m)\u001b[49m\n\u001b[1;32m     36\u001b[0m \u001b[38;5;28;01mreturn\u001b[39;00m instance\n",
      "\u001b[0;31mTypeError\u001b[0m: __init__() missing 1 required positional argument: 'vocab_size'"
     ]
    }
   ],
   "source": [
    "model_dir = 'yelp/mlp/_model_layer_dims_(5,)'\n",
    "acc_mlp3 = load_and_evaluate_dir(result_dir, model_dir)"
   ]
  },
  {
   "cell_type": "code",
   "execution_count": null,
   "metadata": {},
   "outputs": [],
   "source": [
    "model_dir = 'yelp/rnn/_model_head_dims_()_model_threshold_0.8'\n",
    "acc_mlp4 = load_and_evaluate_dir(result_dir, model_dir)"
   ]
  },
  {
   "cell_type": "code",
   "execution_count": 32,
   "metadata": {},
   "outputs": [
    {
     "name": "stdout",
     "output_type": "stream",
     "text": [
      "accuracy:  78.99 +-  0.09\n",
      "cross entropy:  0.494 +-  0.001\n",
      "average steps:  1.903 +-  0.022\n",
      "number parameters: 1288\n"
     ]
    }
   ],
   "source": [
    "model_dir = 'covtype/rnn/_model_max_rec_2'\n",
    "acc_rnn = load_and_evaluate_dir(result_dir, model_dir)"
   ]
  },
  {
   "cell_type": "code",
   "execution_count": 33,
   "metadata": {
    "scrolled": true
   },
   "outputs": [
    {
     "name": "stdout",
     "output_type": "stream",
     "text": [
      "accuracy:  80.27 +-  0.15\n",
      "cross entropy:  0.474 +-  0.008\n",
      "average steps:  1.778 +-  0.038\n",
      "number parameters: 1568\n"
     ]
    }
   ],
   "source": [
    "model_dir = 'covtype/myrnn/_model_threshold_0.9_model_max_rec_2_model_rnn_type_myrnn/'\n",
    "acc_myrnn = load_and_evaluate_dir(result_dir, model_dir)"
   ]
  },
  {
   "cell_type": "code",
   "execution_count": 34,
   "metadata": {
    "scrolled": true
   },
   "outputs": [
    {
     "name": "stdout",
     "output_type": "stream",
     "text": [
      "accuracy:  78.70 +-  0.98\n",
      "cross entropy:  0.505 +-  0.018\n",
      "average steps:  1.753 +-  0.056\n",
      "number parameters: 1312\n"
     ]
    }
   ],
   "source": [
    "model_dir = 'covtype/myrnn/_model_threshold_0.9_model_max_rec_2_model_rnn_type_elman/'\n",
    "acc_elman = load_and_evaluate_dir(result_dir, model_dir)"
   ]
  },
  {
   "cell_type": "code",
   "execution_count": 35,
   "metadata": {
    "scrolled": true
   },
   "outputs": [
    {
     "name": "stdout",
     "output_type": "stream",
     "text": [
      "accuracy:  81.03 +-  0.00\n",
      "cross entropy:  0.466 +-  0.000\n",
      "average steps:  2.597 +-  0.000\n",
      "number parameters: 1544\n"
     ]
    }
   ],
   "source": [
    "model_dir = 'covtype/myrnn/_model_threshold_0.9_model_max_rec_3_model_rnn_type_simple_elman/'\n",
    "acc_selman = load_and_evaluate_dir(result_dir, model_dir)"
   ]
  },
  {
   "cell_type": "code",
   "execution_count": 9,
   "metadata": {},
   "outputs": [
    {
     "name": "stdout",
     "output_type": "stream",
     "text": [
      "tensor(4.0354, device='cuda:0')\n"
     ]
    },
    {
     "data": {
      "image/png": "[encoded data removed]",
      "text/plain": [
       "<Figure size 432x288 with 1 Axes>"
      ]
     },
     "metadata": {
      "needs_background": "light"
     },
     "output_type": "display_data"
    }
   ],
   "source": [
    "model_name = 'covtype/myrnn/_model_threshold_0.7_model_max_rec_5_model_rnn_type_simple_elman/0614-203542'\n",
    "model, loader = load_model(result_dir, model_name)\n",
    "hgram = make_histogram_plot(model, loader)\n",
    "\n",
    "avg_rec = 0\n",
    "for i, frac in enumerate(hgram):\n",
    "    avg_rec += (i + 1) * 2 * frac\n",
    "print(avg_rec)"
   ]
  },
  {
   "cell_type": "code",
   "execution_count": 37,
   "metadata": {},
   "outputs": [
    {
     "data": {
      "image/png": "[encoded data removed]",
      "text/plain": [
       "<Figure size 1050x750 with 1 Axes>"
      ]
     },
     "metadata": {
      "needs_background": "light"
     },
     "output_type": "display_data"
    }
   ],
   "source": [
    "plt.figure(figsize=(7, 5), dpi=150)\n",
    "\n",
    "make_violin_plot([acc_mlp3, acc_mlp4, acc_rnn, acc_myrnn, acc_elman, acc_selman])\n",
    "\n",
    "\n",
    "plt.xticks(range(3), ['MLP \\n3 layers', 'MLP \\n4 layers', 'MyRNN \\n? layers'])\n",
    "plt.ylabel('accuracy')\n",
    "plt.savefig(os.path.join(result_dir, 'images/spiral_violin'))"
   ]
  },
  {
   "cell_type": "code",
   "execution_count": null,
   "metadata": {},
   "outputs": [],
   "source": [
    "import scipy\n",
    "scipy.stats.ttest_ind(acc_mlp3, acc_rnn1, equal_var=False)"
   ]
  },
  {
   "cell_type": "code",
   "execution_count": null,
   "metadata": {},
   "outputs": [],
   "source": []
  }
 ],
 "metadata": {
  "kernelspec": {
   "display_name": "Python 3 (ipykernel)",
   "language": "python",
   "name": "python3"
  },
  "language_info": {
   "codemirror_mode": {
    "name": "ipython",
    "version": 3
   },
   "file_extension": ".py",
   "mimetype": "text/x-python",
   "name": "python",
   "nbconvert_exporter": "python",
   "pygments_lexer": "ipython3",
   "version": "3.9.12"
  }
 },
 "nbformat": 4,
 "nbformat_minor": 1
}
