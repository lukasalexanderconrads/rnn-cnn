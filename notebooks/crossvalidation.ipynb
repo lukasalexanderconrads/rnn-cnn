{
 "cells": [
  {
   "cell_type": "code",
   "execution_count": 5,
   "id": "dcc848ce",
   "metadata": {},
   "outputs": [
    {
     "name": "stdout",
     "output_type": "stream",
     "text": [
      "The autoreload extension is already loaded. To reload it, use:\n",
      "  %reload_ext autoreload\n"
     ]
    }
   ],
   "source": [
    "from lab.postprocessing.toolbox import load_model, evaluate, load_and_evaluate_dir\n",
    "import os\n",
    "import numpy as np\n",
    "\n",
    "%load_ext autoreload\n",
    "%autoreload 2"
   ]
  },
  {
   "cell_type": "code",
   "execution_count": 4,
   "id": "aeab42ed",
   "metadata": {
    "scrolled": false
   },
   "outputs": [
    {
     "name": "stdout",
     "output_type": "stream",
     "text": [
      "accuracy:  92.55 +-  1.05\n",
      "cross entropy:  0.207 +-  0.023\n",
      "number parameters: 24\n"
     ]
    }
   ],
   "source": [
    "result_dir = '/home/iai/user/conrads/rnn-cnn/results'\n",
    "model_dir = 'synth_hard/mlp_cv/_model_layer_dims_(2, 2, 2)'\n",
    "load_and_evaluate_dir(result_dir, model_dir)"
   ]
  }
 ],
 "metadata": {
  "kernelspec": {
   "display_name": "Python 3 (ipykernel)",
   "language": "python",
   "name": "python3"
  },
  "language_info": {
   "codemirror_mode": {
    "name": "ipython",
    "version": 3
   },
   "file_extension": ".py",
   "mimetype": "text/x-python",
   "name": "python",
   "nbconvert_exporter": "python",
   "pygments_lexer": "ipython3",
   "version": "3.9.12"
  }
 },
 "nbformat": 4,
 "nbformat_minor": 5
}
