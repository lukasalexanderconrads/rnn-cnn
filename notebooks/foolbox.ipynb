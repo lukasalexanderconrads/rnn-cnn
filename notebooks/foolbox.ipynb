{
 "cells": [
  {
   "cell_type": "code",
   "execution_count": 2,
   "id": "22ae15f4",
   "metadata": {
    "pycharm": {
     "name": "#%%\n"
    }
   },
   "outputs": [
    {
     "name": "stdout",
     "output_type": "stream",
     "text": [
      "Files already downloaded and verified\n"
     ]
    }
   ],
   "source": [
    "from lab.postprocessing.toolbox import load_model\n",
    "model ,loader = load_model(\"/home/iailab36/aliakbar/rnn-cnn/scripts/results/cifar/resnet/resnet_RNN_dim_10_rec_2/\",\"0718-121833\",device='cpu')"
   ]
  },
  {
   "cell_type": "code",
   "execution_count": 3,
   "id": "ba4a0004",
   "metadata": {
    "pycharm": {
     "name": "#%%\n"
    }
   },
   "outputs": [
    {
     "name": "stdout",
     "output_type": "stream",
     "text": [
      "Files already downloaded and verified\n"
     ]
    }
   ],
   "source": [
    "model_fixed ,loader_f = load_model(\"/home/iailab36/aliakbar/rnn-cnn/scripts/results/cifar/resnet/resnet18/\",\"0819-175224\",device='cpu')"
   ]
  },
  {
   "cell_type": "code",
   "execution_count": 3,
   "id": "fa7fa9c6",
   "metadata": {
    "pycharm": {
     "name": "#%%\n"
    }
   },
   "outputs": [
    {
     "name": "stdout",
     "output_type": "stream",
     "text": [
      "Files already downloaded and verified\n"
     ]
    }
   ],
   "source": [
    "model_mlp ,loader_f2 = load_model(\"/home/iailab36/aliakbar/rnn-cnn/scripts/results/cifar/resnet/resnet18+mlp3/\",\"0830-133113\",device='cpu')"
   ]
  },
  {
   "cell_type": "code",
   "execution_count": 4,
   "id": "ae493bc4",
   "metadata": {
    "pycharm": {
     "name": "#%%\n"
    }
   },
   "outputs": [
    {
     "name": "stdout",
     "output_type": "stream",
     "text": [
      "11174182\n",
      "11174292\n"
     ]
    }
   ],
   "source": [
    "print(sum(p.numel() for p in model_mlp.parameters()))    \n",
    "print(sum(p.numel() for p in model.parameters()))  \n"
   ]
  },
  {
   "cell_type": "code",
   "execution_count": 4,
   "id": "07813a42",
   "metadata": {
    "pycharm": {
     "name": "#%%\n"
    }
   },
   "outputs": [],
   "source": [
    "## Dataloader For foolbox\n",
    "import torch\n",
    "all_imgs = []\n",
    "all_imgs = torch.tensor(all_imgs,dtype=torch.float32).to(\"cpu\")\n",
    "all_labels = []\n",
    "all_labels = torch.tensor(all_labels,dtype=torch.long).to(\"cpu\")\n",
    "all_lstacks = []\n",
    "all_lstacks = torch.tensor(all_lstacks,dtype=torch.float32).to(\"cpu\")\n",
    "all_f_recs = []\n",
    "all_f_recs = torch.tensor(all_f_recs,dtype=torch.float32).to(\"cpu\")\n",
    "for batch in loader.valid:\n",
    "    labels_f = batch[1].to(\"cpu\")\n",
    "    input_f= batch[0].to(\"cpu\")\n",
    "    _ , f_recs = model(input_f,0)\n",
    "    \n",
    "#     all_lstacks=torch.cat((all_lstacks,lstacks),0)\n",
    "    all_f_recs=torch.cat((all_f_recs,f_recs),0)\n",
    "    all_imgs=torch.cat((all_imgs,input_f),0)\n",
    "    all_labels=torch.cat((all_labels,labels_f),0) "
   ]
  },
  {
   "cell_type": "code",
   "execution_count": 6,
   "id": "e0731405",
   "metadata": {
    "scrolled": true,
    "pycharm": {
     "name": "#%%\n"
    }
   },
   "outputs": [
    {
     "name": "stderr",
     "output_type": "stream",
     "text": [
      "/home/iailab36/aliakbar/env/lib/python3.10/site-packages/foolbox/models/pytorch.py:36: UserWarning: The PyTorch model is in training mode and therefore might not be deterministic. Call the eval() method to set it in evaluation mode if this is not intended.\n",
      "  warnings.warn(\n"
     ]
    },
    {
     "name": "stdout",
     "output_type": "stream",
     "text": [
      "clean accuracy:  79.4 %\n"
     ]
    }
   ],
   "source": [
    "import torch\n",
    "\n",
    "import torchvision.models as models\n",
    "# model = models.resnet18(pretrained=True).eval().cuda()\n",
    "# for batch in loader.valid:\n",
    "#     labels = batch[1]\n",
    "#     input= batch[0]\n",
    "#     break\n",
    "torch.set_grad_enabled(True)\n",
    "from foolbox import PyTorchModel, accuracy, samples\n",
    "from foolbox.attacks import FGSM\n",
    "import eagerpy as ep\n",
    "attack = FGSM()\n",
    "# model_fixed = model_fixed.to(torch.device('cpu')).eval()\n",
    "epsilons = [0.0,0.0002,0.0005,0.001,0.002,0.01,0.1,0.3,0.5,1.0]\n",
    "# preprocessing = dict(mean=[0.485, 0.456, 0.406], std=[0.229, 0.224, 0.225], axis=-3)\n",
    "images, labels = ep.astensors(all_imgs,all_labels)\n",
    "fmodel = PyTorchModel(model_fixed, bounds=(0, 1), device = 'cpu')\n",
    "# images, labels = ep.astensors(*samples(fmodel, dataset='cifar10', batchsize=5000))\n",
    "# images, labels = ep.astensors(*samples(fmodel, dataset=\"Cifar-10\", batchsize=128))\n",
    "clean_acc = accuracy(fmodel, images, labels)\n",
    "print(f\"clean accuracy:  {clean_acc * 100:.1f} %\")\n",
    "\n",
    "raw_advs, clipped_advs, success = attack(fmodel, images, labels, epsilons=epsilons)"
   ]
  },
  {
   "cell_type": "code",
   "execution_count": 64,
   "id": "e68d590d",
   "metadata": {
    "pycharm": {
     "name": "#%%\n"
    }
   },
   "outputs": [
    {
     "name": "stdout",
     "output_type": "stream",
     "text": [
      "clean accuracy:  74.3 %\n",
      "robust accuracy for perturbations with\n",
      "  Linf norm ≤ 0.0   : 74.1 %\n",
      "  Linf norm ≤ 0.0002: 71.4 %\n",
      "  Linf norm ≤ 0.0005: 68.0 %\n",
      "  Linf norm ≤ 0.0008: 65.8 %\n",
      "  Linf norm ≤ 0.001 : 63.9 %\n",
      "  Linf norm ≤ 0.0015: 62.1 %\n",
      "  Linf norm ≤ 0.002 : 59.7 %\n",
      "  Linf norm ≤ 0.003 : 55.0 %\n",
      "  Linf norm ≤ 0.01  : 37.1 %\n",
      "  Linf norm ≤ 0.1   : 20.3 %\n",
      "  Linf norm ≤ 0.3   : 16.1 %\n",
      "  Linf norm ≤ 0.5   : 14.3 %\n",
      "  Linf norm ≤ 1.0   :  9.0 %\n"
     ]
    }
   ],
   "source": [
    "# clean_acc = accuracy(fmodel, input_2, label_2)\n",
    "print(f\"clean accuracy:  {clean_acc * 100:.1f} %\")\n",
    "robust_accuracy = 1 - success.float32().mean(axis=-1)\n",
    "print(\"robust accuracy for perturbations with\")\n",
    "for eps, acc in zip(epsilons, robust_accuracy):\n",
    "    print(f\"  Linf norm ≤ {eps:<6}: {acc.item() * 100:4.1f} %\")"
   ]
  },
  {
   "cell_type": "code",
   "execution_count": 37,
   "id": "3f1eed00",
   "metadata": {
    "pycharm": {
     "name": "#%%\n"
    }
   },
   "outputs": [
    {
     "name": "stderr",
     "output_type": "stream",
     "text": [
      "/home/iailab36/aliakbar/env/lib/python3.10/site-packages/foolbox/models/pytorch.py:36: UserWarning: The PyTorch model is in training mode and therefore might not be deterministic. Call the eval() method to set it in evaluation mode if this is not intended.\n",
      "  warnings.warn(\n"
     ]
    },
    {
     "name": "stdout",
     "output_type": "stream",
     "text": [
      "clean accuracy:  80.2 %\n"
     ]
    }
   ],
   "source": [
    "torch.set_grad_enabled(True)\n",
    "# model = model.to(torch.device('cpu')).eval()\n",
    "# images, labels = ep.astensors(*samples(fmodel, dataset='cifar10', batchsize=5000))\n",
    "images, labels = ep.astensors(all_imgs,all_labels)\n",
    "fmodel_rnn = PyTorchModel(model, bounds=(0, 1), device = 'cpu')\n",
    "clean_acc = accuracy(fmodel_rnn, images, labels)\n",
    "\n",
    "print(f\"clean accuracy:  {clean_acc * 100:.1f} %\")\n",
    "epsilons = [0.0,0.0002,0.0005,0.001,0.002,0.01,0.1,0.3,0.5,1.0]\n",
    "raw_advs2, clipped_advs2, success2 = attack(fmodel_rnn, images, labels, epsilons=epsilons)"
   ]
  },
  {
   "cell_type": "code",
   "execution_count": 38,
   "id": "526fbcc8",
   "metadata": {
    "pycharm": {
     "name": "#%%\n"
    }
   },
   "outputs": [
    {
     "name": "stdout",
     "output_type": "stream",
     "text": [
      "clean accuracy RNN:  80.2 %\n",
      "robust accuracy for perturbations with\n",
      "  Linf norm ≤ 0.0   : 79.8 %\n",
      "  Linf norm ≤ 0.0002: 78.3 %\n",
      "  Linf norm ≤ 0.0005: 75.7 %\n",
      "  Linf norm ≤ 0.001 : 71.7 %\n",
      "  Linf norm ≤ 0.002 : 63.8 %\n",
      "  Linf norm ≤ 0.01  : 24.4 %\n",
      "  Linf norm ≤ 0.1   :  2.1 %\n",
      "  Linf norm ≤ 0.3   :  3.7 %\n",
      "  Linf norm ≤ 0.5   :  5.3 %\n",
      "  Linf norm ≤ 1.0   :  6.3 %\n"
     ]
    }
   ],
   "source": [
    "# clean_acc = accuracy(fmodel, input_2, label_2)\n",
    "print(f\"clean accuracy RNN:  {clean_acc * 100:.1f} %\")\n",
    "robust_accuracy = 1 - success2.float32().mean(axis=-1)\n",
    "print(\"robust accuracy for perturbations with\")\n",
    "for eps, acc in zip(epsilons, robust_accuracy):\n",
    "    print(f\"  Linf norm ≤ {eps:<6}: {acc.item() * 100:4.1f} %\")"
   ]
  },
  {
   "cell_type": "code",
   "execution_count": 68,
   "id": "3d869239",
   "metadata": {
    "pycharm": {
     "name": "#%%\n"
    }
   },
   "outputs": [],
   "source": [
    "\n",
    "recs_2 = all_f_recs.nonzero()\n",
    "recs_1 = (all_f_recs==0).nonzero()\n",
    "input_2 = all_imgs[recs_2].reshape([recs_2.size()[0],3,32,32])\n",
    "input_1 = all_imgs[recs_1].reshape([recs_1.size()[0],3,32,32])\n",
    "label_2 = all_labels[recs_2].reshape([recs_2.size()[0]])\n",
    "label_1 = all_labels[recs_1].reshape([recs_1.size()[0]])\n",
    "\n",
    "\n",
    "raw_advs, clipped_advs, success = attack(fmodel, input_1, label_1, epsilons=epsilons)"
   ]
  },
  {
   "cell_type": "code",
   "execution_count": 70,
   "id": "b71a6da7",
   "metadata": {
    "scrolled": true,
    "pycharm": {
     "name": "#%%\n"
    }
   },
   "outputs": [
    {
     "name": "stdout",
     "output_type": "stream",
     "text": [
      "clean accuracy:  88.6 %\n",
      "robust accuracy for perturbations with\n",
      "  Linf norm ≤ 0.0   : 88.4 %\n",
      "  Linf norm ≤ 0.0002: 87.1 %\n",
      "  Linf norm ≤ 0.0005: 85.3 %\n",
      "  Linf norm ≤ 0.0008: 83.7 %\n",
      "  Linf norm ≤ 0.001 : 81.3 %\n",
      "  Linf norm ≤ 0.0015: 78.2 %\n",
      "  Linf norm ≤ 0.002 : 74.1 %\n",
      "  Linf norm ≤ 0.003 : 67.7 %\n",
      "  Linf norm ≤ 0.01  : 50.7 %\n",
      "  Linf norm ≤ 0.1   : 37.1 %\n",
      "  Linf norm ≤ 0.3   : 30.1 %\n",
      "  Linf norm ≤ 0.5   : 24.1 %\n",
      "  Linf norm ≤ 1.0   : 19.3 %\n"
     ]
    }
   ],
   "source": [
    "clean_acc = accuracy(fmodel, input_1, label_1)\n",
    "print(f\"clean accuracy:  {clean_acc * 100:.1f} %\")\n",
    "robust_accuracy = 1 - success.float().mean(axis=-1)\n",
    "print(\"robust accuracy for perturbations with\")\n",
    "for eps, acc in zip(epsilons, robust_accuracy):\n",
    "    print(f\"  Linf norm ≤ {eps:<6}: {acc.item() * 100:4.1f} %\")"
   ]
  },
  {
   "cell_type": "code",
   "execution_count": 71,
   "id": "922cf5ab",
   "metadata": {
    "pycharm": {
     "name": "#%%\n"
    }
   },
   "outputs": [],
   "source": [
    "raw_advs2, clipped_advs2, success2 = attack(fmodel, input_2, label_2, epsilons=epsilons)"
   ]
  },
  {
   "cell_type": "code",
   "execution_count": 72,
   "id": "8a9d6cff",
   "metadata": {
    "pycharm": {
     "name": "#%%\n"
    }
   },
   "outputs": [
    {
     "name": "stdout",
     "output_type": "stream",
     "text": [
      "clean accuracy:  53.4 %\n",
      "robust accuracy for perturbations with\n",
      "  Linf norm ≤ 0.0   : 53.7 %\n",
      "  Linf norm ≤ 0.0002: 51.1 %\n",
      "  Linf norm ≤ 0.0005: 46.9 %\n",
      "  Linf norm ≤ 0.0008: 45.1 %\n",
      "  Linf norm ≤ 0.001 : 43.0 %\n",
      "  Linf norm ≤ 0.0015: 39.6 %\n",
      "  Linf norm ≤ 0.002 : 36.1 %\n",
      "  Linf norm ≤ 0.003 : 31.5 %\n",
      "  Linf norm ≤ 0.01  : 16.8 %\n",
      "  Linf norm ≤ 0.1   :  6.0 %\n",
      "  Linf norm ≤ 0.3   :  6.3 %\n",
      "  Linf norm ≤ 0.5   :  6.6 %\n",
      "  Linf norm ≤ 1.0   :  7.3 %\n"
     ]
    }
   ],
   "source": [
    "clean_acc = accuracy(fmodel, input_2, label_2)\n",
    "print(f\"clean accuracy:  {clean_acc * 100:.1f} %\")\n",
    "robust_accuracy = 1 - success2.float().mean(axis=-1)\n",
    "print(\"robust accuracy for perturbations with\")\n",
    "for eps, acc in zip(epsilons, robust_accuracy):\n",
    "    print(f\"  Linf norm ≤ {eps:<6}: {acc.item() * 100:4.1f} %\")"
   ]
  },
  {
   "cell_type": "code",
   "execution_count": 74,
   "id": "d9f8a19a",
   "metadata": {
    "pycharm": {
     "name": "#%%\n"
    }
   },
   "outputs": [
    {
     "name": "stdout",
     "output_type": "stream",
     "text": [
      "torch.Size([3099])\n",
      "torch.Size([1901])\n"
     ]
    }
   ],
   "source": [
    "print(label_1.size())\n",
    "print(label_2.size())"
   ]
  },
  {
   "cell_type": "code",
   "execution_count": null,
   "id": "dd88be19",
   "metadata": {
    "pycharm": {
     "name": "#%%\n"
    }
   },
   "outputs": [],
   "source": [
    "from foolbox import plot\n",
    "len(clipped_advs[9][0][0])\n",
    "plot.images(clipped_advs[7][0:5],figsize=[7,7])"
   ]
  },
  {
   "cell_type": "code",
   "execution_count": 34,
   "id": "4fc74d89",
   "metadata": {
    "pycharm": {
     "name": "#%%\n"
    }
   },
   "outputs": [
    {
     "name": "stderr",
     "output_type": "stream",
     "text": [
      "/home/iailab36/aliakbar/env/lib/python3.10/site-packages/foolbox/models/pytorch.py:36: UserWarning: The PyTorch model is in training mode and therefore might not be deterministic. Call the eval() method to set it in evaluation mode if this is not intended.\n",
      "  warnings.warn(\n"
     ]
    },
    {
     "name": "stdout",
     "output_type": "stream",
     "text": [
      "clean accuracy:  79.0 %\n"
     ]
    }
   ],
   "source": [
    "import torch\n",
    "\n",
    "import torchvision.models as models\n",
    "# model = models.resnet18(pretrained=True).eval().cuda()\n",
    "# for batch in loader.valid:\n",
    "#     labels = batch[1]\n",
    "#     input= batch[0]\n",
    "#     break\n",
    "torch.set_grad_enabled(True)\n",
    "from foolbox import PyTorchModel, accuracy, samples\n",
    "from foolbox.attacks import FGSM\n",
    "import eagerpy as ep\n",
    "attack = FGSM()\n",
    "# model_fixed = model_fixed.to(torch.device('cpu')).eval()\n",
    "# epsilons = [0.0,0.0002,0.0005,0.0008,0.001,0.0015,0.002,0.003,0.01,0.1,0.3,0.5,1.0,]\n",
    "# preprocessing = dict(mean=[0.485, 0.456, 0.406], std=[0.229, 0.224, 0.225], axis=-3)\n",
    "\n",
    "fmodel = PyTorchModel(model_mlp, bounds=(0, 1), device = 'cpu')\n",
    "# images, labels = ep.astensors(*samples(fmodel, dataset='cifar10', batchsize=5000))\n",
    "images, labels = ep.astensors(all_imgs,all_labels)\n",
    "# images, labels = ep.astensors(*samples(fmodel, dataset=\"Cifar-10\", batchsize=128))\n",
    "clean_acc = accuracy(fmodel, images, labels)\n",
    "print(f\"clean accuracy:  {clean_acc * 100:.1f} %\")\n",
    "\n",
    "raw_advs, clipped_advs, success = attack(fmodel, images, labels, epsilons=epsilons)"
   ]
  },
  {
   "cell_type": "code",
   "execution_count": 35,
   "id": "be26a03a",
   "metadata": {
    "pycharm": {
     "name": "#%%\n"
    }
   },
   "outputs": [
    {
     "name": "stdout",
     "output_type": "stream",
     "text": [
      "clean accuracy MLP:  79.0 %\n",
      "robust accuracy for perturbations with\n",
      "  Linf norm ≤ 0.0   : 79.1 %\n",
      "  Linf norm ≤ 0.0002: 77.1 %\n",
      "  Linf norm ≤ 0.0005: 74.1 %\n",
      "  Linf norm ≤ 0.001 : 70.3 %\n",
      "  Linf norm ≤ 0.002 : 61.4 %\n",
      "  Linf norm ≤ 0.01  : 29.2 %\n",
      "  Linf norm ≤ 0.1   :  5.5 %\n",
      "  Linf norm ≤ 0.3   :  3.8 %\n",
      "  Linf norm ≤ 0.5   :  4.2 %\n",
      "  Linf norm ≤ 1.0   :  5.3 %\n"
     ]
    }
   ],
   "source": [
    "# clean_acc = accuracy(fmodel, input_2, label_2)\n",
    "print(f\"clean accuracy MLP:  {clean_acc * 100:.1f} %\")\n",
    "robust_accuracy = 1 - success.float32().mean(axis=-1)\n",
    "print(\"robust accuracy for perturbations with\")\n",
    "for eps, acc in zip(epsilons, robust_accuracy):\n",
    "    print(f\"  Linf norm ≤ {eps:<6}: {acc.item() * 100:4.1f} %\")"
   ]
  }
 ],
 "metadata": {
  "kernelspec": {
   "display_name": "Python 3 (ipykernel)",
   "language": "python",
   "name": "python3"
  },
  "language_info": {
   "codemirror_mode": {
    "name": "ipython",
    "version": 3
   },
   "file_extension": ".py",
   "mimetype": "text/x-python",
   "name": "python",
   "nbconvert_exporter": "python",
   "pygments_lexer": "ipython3",
   "version": "3.10.4"
  }
 },
 "nbformat": 4,
 "nbformat_minor": 5
}