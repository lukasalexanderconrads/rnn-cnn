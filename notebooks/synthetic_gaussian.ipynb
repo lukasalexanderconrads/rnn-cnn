{
 "cells": [
  {
   "cell_type": "code",
   "execution_count": null,
   "outputs": [],
   "source": [
    "from scripts.toolbox import load_model\n",
    "from matplotlib import pyplot as plt\n",
    "import torch"
   ],
   "metadata": {
    "collapsed": false,
    "pycharm": {
     "name": "#%%\n",
     "is_executing": true
    }
   }
  },
  {
   "cell_type": "code",
   "execution_count": null,
   "outputs": [],
   "source": [
    "result_dir = '/home/iai/user/conrads/rnn-cnn/results'\n",
    "model_name = 'synth/singlelayer_rnn/0519-152942'\n",
    "\n",
    "model, loader = load_model(result_dir, model_name)\n",
    "\n",
    "\n"
   ],
   "metadata": {
    "collapsed": false,
    "pycharm": {
     "name": "#%%\n"
    }
   }
  },
  {
   "cell_type": "code",
   "execution_count": null,
   "outputs": [],
   "source": [
    "x1, x2 = torch.meshgrid(torch.arange(-6, 6, .05), torch.arange(-6, 6, .05))\n",
    "points = torch.stack([x1.flatten(), x2.flatten()], dim=1)\n",
    "\n",
    "logits, final_steps = model.evaluate(points)\n",
    "logits = logits[final_steps == 0]\n",
    "points = points[final_steps == 0]\n",
    "y = torch.nn.functional.softmax(logits, dim=1)[:, 0]\n",
    "plt.scatter(points[:, 0], points[:, 1], c=y, cmap='seismic', s=2)\n",
    "\n",
    "\n",
    "for minibatch in loader.test:\n",
    "    input = minibatch['input']\n",
    "    target = minibatch['target']\n",
    "    plt.scatter(input[:, 0], input[:, 1], c=target, s=5)\n",
    "plt.show()"
   ],
   "metadata": {
    "collapsed": false,
    "pycharm": {
     "name": "#%%\n"
    }
   }
  }
 ],
 "metadata": {
  "kernelspec": {
   "display_name": "Python 3",
   "language": "python",
   "name": "python3"
  },
  "language_info": {
   "codemirror_mode": {
    "name": "ipython",
    "version": 2
   },
   "file_extension": ".py",
   "mimetype": "text/x-python",
   "name": "python",
   "nbconvert_exporter": "python",
   "pygments_lexer": "ipython2",
   "version": "2.7.6"
  }
 },
 "nbformat": 4,
 "nbformat_minor": 0
}